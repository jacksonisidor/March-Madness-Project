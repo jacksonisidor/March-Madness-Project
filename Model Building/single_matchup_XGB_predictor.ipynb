{
 "cells": [
  {
   "cell_type": "markdown",
   "id": "7289e406-1511-4875-b435-5d19e8e3330b",
   "metadata": {},
   "source": [
    "## XGBoost Matchup Predictor\n",
    "By: Jackson Isidor and Alex Sullivan"
   ]
  },
  {
   "cell_type": "code",
   "execution_count": 1,
   "id": "135d826e-dad4-46f3-aea9-0611159804d6",
   "metadata": {},
   "outputs": [],
   "source": [
    "import pandas as pd\n",
    "import numpy as np\n",
    "from matplotlib import pyplot as plt\n",
    "import seaborn as sns\n",
    "import numpy as np\n",
    "\n",
    "\n",
    "from sklearn.preprocessing import StandardScaler\n",
    "from sklearn.pipeline import make_pipeline\n",
    "from sklearn.model_selection import train_test_split\n",
    "from sklearn.model_selection import cross_val_score, cross_val_predict\n",
    "from sklearn.model_selection import GridSearchCV\n",
    "from sklearn.model_selection import KFold\n",
    "\n",
    "from xgboost import XGBClassifier\n",
    "\n",
    "from sklearn.metrics import accuracy_score, precision_score, recall_score, f1_score\n",
    "from sklearn.metrics import classification_report\n",
    "from sklearn.metrics import confusion_matrix"
   ]
  },
  {
   "cell_type": "code",
   "execution_count": 2,
   "id": "e7d39ea1-0a94-4785-bd03-0018d4a0daec",
   "metadata": {},
   "outputs": [],
   "source": [
    "df = pd.read_csv(\"https://raw.githubusercontent.com/jacksonisidor/March-Madness-Predictor/main/MM%20Data/matchup_stats.csv\")"
   ]
  },
  {
   "cell_type": "code",
   "execution_count": 3,
   "id": "7cf31049-b1c0-4a24-b32a-03dc8bebec94",
   "metadata": {},
   "outputs": [
    {
     "data": {
      "text/html": [
       "<div>\n",
       "<style scoped>\n",
       "    .dataframe tbody tr th:only-of-type {\n",
       "        vertical-align: middle;\n",
       "    }\n",
       "\n",
       "    .dataframe tbody tr th {\n",
       "        vertical-align: top;\n",
       "    }\n",
       "\n",
       "    .dataframe thead th {\n",
       "        text-align: right;\n",
       "    }\n",
       "</style>\n",
       "<table border=\"1\" class=\"dataframe\">\n",
       "  <thead>\n",
       "    <tr style=\"text-align: right;\">\n",
       "      <th></th>\n",
       "      <th>Unnamed: 0</th>\n",
       "      <th>year</th>\n",
       "      <th>team_1</th>\n",
       "      <th>seed_1</th>\n",
       "      <th>round_1</th>\n",
       "      <th>current_round</th>\n",
       "      <th>team_2</th>\n",
       "      <th>seed_2</th>\n",
       "      <th>round_2</th>\n",
       "      <th>badj_em_1</th>\n",
       "      <th>...</th>\n",
       "      <th>win_percent_2</th>\n",
       "      <th>winner</th>\n",
       "      <th>badj_em_diff</th>\n",
       "      <th>wab_diff</th>\n",
       "      <th>barthag_diff</th>\n",
       "      <th>talent_diff</th>\n",
       "      <th>elite_sos_diff</th>\n",
       "      <th>win_percent_diff</th>\n",
       "      <th>pppo_diff</th>\n",
       "      <th>k_off_diff</th>\n",
       "    </tr>\n",
       "  </thead>\n",
       "  <tbody>\n",
       "    <tr>\n",
       "      <th>0</th>\n",
       "      <td>0</td>\n",
       "      <td>2023</td>\n",
       "      <td>Alabama</td>\n",
       "      <td>1</td>\n",
       "      <td>16</td>\n",
       "      <td>64</td>\n",
       "      <td>Texas A&amp;M Corpus Chris</td>\n",
       "      <td>16</td>\n",
       "      <td>64</td>\n",
       "      <td>27.1</td>\n",
       "      <td>...</td>\n",
       "      <td>65.517241</td>\n",
       "      <td>1</td>\n",
       "      <td>28.9</td>\n",
       "      <td>16.2</td>\n",
       "      <td>0.505</td>\n",
       "      <td>62.286</td>\n",
       "      <td>24.154</td>\n",
       "      <td>19.776876</td>\n",
       "      <td>0.008</td>\n",
       "      <td>0.998</td>\n",
       "    </tr>\n",
       "    <tr>\n",
       "      <th>1</th>\n",
       "      <td>1</td>\n",
       "      <td>2023</td>\n",
       "      <td>Maryland</td>\n",
       "      <td>8</td>\n",
       "      <td>32</td>\n",
       "      <td>64</td>\n",
       "      <td>West Virginia</td>\n",
       "      <td>9</td>\n",
       "      <td>64</td>\n",
       "      <td>16.5</td>\n",
       "      <td>...</td>\n",
       "      <td>57.575758</td>\n",
       "      <td>1</td>\n",
       "      <td>-3.2</td>\n",
       "      <td>-0.5</td>\n",
       "      <td>-0.032</td>\n",
       "      <td>3.690</td>\n",
       "      <td>-6.315</td>\n",
       "      <td>6.060606</td>\n",
       "      <td>-0.002</td>\n",
       "      <td>0.056</td>\n",
       "    </tr>\n",
       "    <tr>\n",
       "      <th>2</th>\n",
       "      <td>2</td>\n",
       "      <td>2023</td>\n",
       "      <td>San Diego St.</td>\n",
       "      <td>5</td>\n",
       "      <td>2</td>\n",
       "      <td>64</td>\n",
       "      <td>College of Charleston</td>\n",
       "      <td>12</td>\n",
       "      <td>64</td>\n",
       "      <td>21.2</td>\n",
       "      <td>...</td>\n",
       "      <td>90.909091</td>\n",
       "      <td>1</td>\n",
       "      <td>9.7</td>\n",
       "      <td>4.1</td>\n",
       "      <td>0.137</td>\n",
       "      <td>37.036</td>\n",
       "      <td>16.740</td>\n",
       "      <td>-9.659091</td>\n",
       "      <td>-0.062</td>\n",
       "      <td>-5.790</td>\n",
       "    </tr>\n",
       "    <tr>\n",
       "      <th>3</th>\n",
       "      <td>3</td>\n",
       "      <td>2023</td>\n",
       "      <td>Virginia</td>\n",
       "      <td>4</td>\n",
       "      <td>64</td>\n",
       "      <td>64</td>\n",
       "      <td>Furman</td>\n",
       "      <td>13</td>\n",
       "      <td>32</td>\n",
       "      <td>16.9</td>\n",
       "      <td>...</td>\n",
       "      <td>77.419355</td>\n",
       "      <td>0</td>\n",
       "      <td>9.1</td>\n",
       "      <td>6.1</td>\n",
       "      <td>0.174</td>\n",
       "      <td>50.410</td>\n",
       "      <td>14.426</td>\n",
       "      <td>0.705645</td>\n",
       "      <td>-0.072</td>\n",
       "      <td>-7.131</td>\n",
       "    </tr>\n",
       "    <tr>\n",
       "      <th>4</th>\n",
       "      <td>4</td>\n",
       "      <td>2023</td>\n",
       "      <td>Creighton</td>\n",
       "      <td>6</td>\n",
       "      <td>8</td>\n",
       "      <td>64</td>\n",
       "      <td>North Carolina St.</td>\n",
       "      <td>11</td>\n",
       "      <td>64</td>\n",
       "      <td>21.0</td>\n",
       "      <td>...</td>\n",
       "      <td>69.696970</td>\n",
       "      <td>1</td>\n",
       "      <td>5.8</td>\n",
       "      <td>0.8</td>\n",
       "      <td>0.073</td>\n",
       "      <td>12.798</td>\n",
       "      <td>8.184</td>\n",
       "      <td>-6.060606</td>\n",
       "      <td>-0.020</td>\n",
       "      <td>-1.706</td>\n",
       "    </tr>\n",
       "  </tbody>\n",
       "</table>\n",
       "<p>5 rows × 34 columns</p>\n",
       "</div>"
      ],
      "text/plain": [
       "   Unnamed: 0  year         team_1  seed_1  round_1  current_round  \\\n",
       "0           0  2023        Alabama       1       16             64   \n",
       "1           1  2023       Maryland       8       32             64   \n",
       "2           2  2023  San Diego St.       5        2             64   \n",
       "3           3  2023       Virginia       4       64             64   \n",
       "4           4  2023      Creighton       6        8             64   \n",
       "\n",
       "                   team_2  seed_2  round_2  badj_em_1  ...  win_percent_2  \\\n",
       "0  Texas A&M Corpus Chris      16       64       27.1  ...      65.517241   \n",
       "1           West Virginia       9       64       16.5  ...      57.575758   \n",
       "2   College of Charleston      12       64       21.2  ...      90.909091   \n",
       "3                  Furman      13       32       16.9  ...      77.419355   \n",
       "4      North Carolina St.      11       64       21.0  ...      69.696970   \n",
       "\n",
       "   winner  badj_em_diff  wab_diff  barthag_diff  talent_diff  elite_sos_diff  \\\n",
       "0       1          28.9      16.2         0.505       62.286          24.154   \n",
       "1       1          -3.2      -0.5        -0.032        3.690          -6.315   \n",
       "2       1           9.7       4.1         0.137       37.036          16.740   \n",
       "3       0           9.1       6.1         0.174       50.410          14.426   \n",
       "4       1           5.8       0.8         0.073       12.798           8.184   \n",
       "\n",
       "   win_percent_diff  pppo_diff  k_off_diff  \n",
       "0         19.776876      0.008       0.998  \n",
       "1          6.060606     -0.002       0.056  \n",
       "2         -9.659091     -0.062      -5.790  \n",
       "3          0.705645     -0.072      -7.131  \n",
       "4         -6.060606     -0.020      -1.706  \n",
       "\n",
       "[5 rows x 34 columns]"
      ]
     },
     "execution_count": 3,
     "metadata": {},
     "output_type": "execute_result"
    }
   ],
   "source": [
    "df.head()"
   ]
  },
  {
   "cell_type": "markdown",
   "id": "98d80eff-18e2-4446-9631-716be7aa34f5",
   "metadata": {},
   "source": [
    "**Get the most important predictors using a feature from XGBoost:**"
   ]
  },
  {
   "cell_type": "code",
   "execution_count": 4,
   "id": "498cd99e-d1d6-4080-afa9-14cc594fb9ae",
   "metadata": {
    "tags": []
   },
   "outputs": [],
   "source": [
    "def getFeatures(allFeatures, j):\n",
    "    \n",
    "    bin_j = bin(j)[2:]\n",
    "    bin_j = bin_j.zfill(len(allFeatures)) # adds leading zeros to match the length of allFeatures\n",
    "    \n",
    "    selected_features = []\n",
    "    for feature, bit in zip(allFeatures, bin_j):\n",
    "        if bit == \"1\":\n",
    "            selected_features.append(feature)\n",
    "\n",
    "    return selected_features"
   ]
  },
  {
   "cell_type": "code",
   "execution_count": 5,
   "id": "a4512899-a9e1-45b9-9814-db39ff9db939",
   "metadata": {},
   "outputs": [
    {
     "data": {
      "text/plain": [
       "15"
      ]
     },
     "execution_count": 5,
     "metadata": {},
     "output_type": "execute_result"
    }
   ],
   "source": [
    "\n",
    "unique_years = df.year.unique()\n",
    "np.random.shuffle(unique_years)\n",
    "unique_years.size"
   ]
  },
  {
   "cell_type": "code",
   "execution_count": 6,
   "id": "4a35fa81-8650-4f63-81fe-0c75e5817ec7",
   "metadata": {},
   "outputs": [],
   "source": [
    "## Make folds for each year\n",
    "\n",
    "df_shuffled = df.sample(frac=1, random_state=42)\n",
    "\n",
    "unique_years = df_shuffled.year.unique()\n",
    "np.random.shuffle(unique_years)\n",
    "k = unique_years.size\n",
    "fold_indices = np.array_split(unique_years, k)\n",
    "kf = KFold(n_splits=k)"
   ]
  },
  {
   "cell_type": "code",
   "execution_count": 7,
   "id": "c6d24865-299a-4e2a-a35e-fa54fe7e5cfa",
   "metadata": {},
   "outputs": [
    {
     "data": {
      "text/plain": [
       "Index(['badj_em_diff', 'wab_diff', 'barthag_diff', 'talent_diff',\n",
       "       'elite_sos_diff', 'win_percent_diff', 'pppo_diff', 'k_off_diff'],\n",
       "      dtype='object')"
      ]
     },
     "execution_count": 7,
     "metadata": {},
     "output_type": "execute_result"
    }
   ],
   "source": [
    "df.columns[26:]"
   ]
  },
  {
   "cell_type": "code",
   "execution_count": 8,
   "id": "3eab9bc1-54fe-4965-804a-e1ea3b1ac4c9",
   "metadata": {},
   "outputs": [
    {
     "data": {
      "text/plain": [
       "array([0.20633644, 0.19194263, 0.10099952, 0.10815375, 0.08616749,\n",
       "       0.09863141, 0.10140386, 0.1063649 ], dtype=float32)"
      ]
     },
     "execution_count": 8,
     "metadata": {},
     "output_type": "execute_result"
    }
   ],
   "source": [
    "X = df_shuffled[df.columns[26:]]\n",
    "y = df_shuffled[\"winner\"]\n",
    "\n",
    "xgb = XGBClassifier()\n",
    "xgb.fit(X, y)\n",
    "xgb.feature_importances_"
   ]
  },
  {
   "cell_type": "markdown",
   "id": "afba7172-f462-4c09-8375-756e553f2563",
   "metadata": {
    "tags": []
   },
   "source": [
    "**Grid Search on XGBoost model to find the best parameters:**\n",
    "- using the best feautures found above (badj_em_diff, wab_diff, barthag_diff, talent_diff, pppo_diff)"
   ]
  },
  {
   "cell_type": "code",
   "execution_count": 10,
   "id": "554fda50-e08d-4df3-80fa-b4fb3963a9ba",
   "metadata": {},
   "outputs": [
    {
     "data": {
      "text/plain": [
       "{'xgbclassifier__colsample_bytree': 1.0,\n",
       " 'xgbclassifier__gamma': 5,\n",
       " 'xgbclassifier__learning_rate': 0.01,\n",
       " 'xgbclassifier__max_depth': 3,\n",
       " 'xgbclassifier__n_estimators': 100,\n",
       " 'xgbclassifier__subsample': 1.0}"
      ]
     },
     "execution_count": 10,
     "metadata": {},
     "output_type": "execute_result"
    }
   ],
   "source": [
    "X = df_shuffled[df.columns[26:]]\n",
    "y = df_shuffled[\"winner\"]\n",
    "\n",
    "pipeline = make_pipeline(StandardScaler(), XGBClassifier())\n",
    "\n",
    "params = {\n",
    "    'xgbclassifier__n_estimators': [100, 200, 300],  \n",
    "    'xgbclassifier__max_depth': [3, 5, 7],            \n",
    "    'xgbclassifier__learning_rate': [0.01, 0.1, 0.2], \n",
    "    'xgbclassifier__subsample': [0.8, 0.9, 1.0],     \n",
    "    'xgbclassifier__colsample_bytree': [0.8, 0.9, 1.0],\n",
    "    'xgbclassifier__gamma': [0, 1, 5]                 \n",
    "}\n",
    "\n",
    "gs = GridSearchCV(pipeline,\n",
    "                 param_grid = params,\n",
    "                 scoring = 'accuracy',\n",
    "                 cv = kf)\n",
    "\n",
    "gs.fit(X, y)\n",
    "gs.best_params_"
   ]
  },
  {
   "cell_type": "markdown",
   "id": "735d646d-756b-46d8-b6d0-2b616688f9e6",
   "metadata": {},
   "source": [
    "**Do cross validation with the best features and the best parameters:**"
   ]
  },
  {
   "cell_type": "code",
   "execution_count": 14,
   "id": "e5fa362d-1864-463e-bd6d-ed795858bd43",
   "metadata": {},
   "outputs": [
    {
     "name": "stdout",
     "output_type": "stream",
     "text": [
      "CV Accuracy: 0.7044491525423728\n"
     ]
    }
   ],
   "source": [
    "X = df_shuffled[df.columns[26:41]]\n",
    "y = df_shuffled[\"winner\"]\n",
    "\n",
    "pipeline = make_pipeline(StandardScaler(), \n",
    "                         XGBClassifier(colsample_bytree=1,\n",
    "                                       gamma=5,\n",
    "                                       learning_rate=0.01,\n",
    "                                       max_depth=3,\n",
    "                                       n_estimators=100,\n",
    "                                       subsample=1\n",
    "                         ))\n",
    "\n",
    "preds = cross_val_predict(pipeline,\n",
    "                        X,\n",
    "                        y,\n",
    "                        cv=kf,\n",
    "                        )\n",
    "\n",
    "print(f\"CV Accuracy: {accuracy_score(preds, y)}\")"
   ]
  },
  {
   "cell_type": "code",
   "execution_count": 15,
   "id": "744b60cd-577f-4bd5-b217-cdd45710758f",
   "metadata": {},
   "outputs": [
    {
     "data": {
      "image/png": "[encoded data removed]",
      "text/plain": [
       "<Figure size 576x432 with 1 Axes>"
      ]
     },
     "metadata": {
      "needs_background": "light"
     },
     "output_type": "display_data"
    }
   ],
   "source": [
    "conf_matrix = confusion_matrix(y, preds)\n",
    "\n",
    "# Plot confusion matrix\n",
    "plt.figure(figsize=(8, 6))\n",
    "sns.heatmap(conf_matrix, annot=True, fmt='d', cmap='Blues', cbar=False)\n",
    "plt.title('Confusion Matrix')\n",
    "plt.xlabel('Predicted Label')\n",
    "plt.ylabel('True Label')\n",
    "plt.show()"
   ]
  },
  {
   "cell_type": "code",
   "execution_count": 11,
   "id": "f0d1c94b-eb6b-4e95-91a2-2560bb72b539",
   "metadata": {},
   "outputs": [
    {
     "name": "stdout",
     "output_type": "stream",
     "text": [
      "              precision    recall  f1-score   support\n",
      "\n",
      "           0       0.69      0.40      0.51       359\n",
      "           1       0.71      0.89      0.79       585\n",
      "\n",
      "    accuracy                           0.70       944\n",
      "   macro avg       0.70      0.65      0.65       944\n",
      "weighted avg       0.70      0.70      0.68       944\n",
      "\n"
     ]
    }
   ],
   "source": [
    "print(classification_report(y, preds))"
   ]
  },
  {
   "cell_type": "code",
   "execution_count": null,
   "id": "15c5daa3-7f24-40f7-8566-2c743cc349bd",
   "metadata": {},
   "outputs": [],
   "source": []
  },
  {
   "cell_type": "code",
   "execution_count": null,
   "id": "10072688-37c1-40ca-9b4d-4e88ed2f6496",
   "metadata": {},
   "outputs": [],
   "source": []
  }
 ],
 "metadata": {
  "kernelspec": {
   "display_name": "Python 3",
   "language": "python",
   "name": "python3"
  },
  "language_info": {
   "codemirror_mode": {
    "name": "ipython",
    "version": 3
   },
   "file_extension": ".py",
   "mimetype": "text/x-python",
   "name": "python",
   "nbconvert_exporter": "python",
   "pygments_lexer": "ipython3",
   "version": "3.8.8"
  }
 },
 "nbformat": 4,
 "nbformat_minor": 5
}
